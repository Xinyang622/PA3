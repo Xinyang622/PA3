{
 "cells": [
  {
   "cell_type": "code",
   "execution_count": 1,
   "metadata": {},
   "outputs": [],
   "source": [
    "import torch\n",
    "import torchvision\n",
    "import torchvision.transforms as transforms\n",
    "import numpy as np\n",
    "from torch.autograd import Variable\n",
    "import torch.nn as nn\n",
    "import torch.nn.functional as F"
   ]
  },
  {
   "cell_type": "markdown",
   "metadata": {},
   "source": [
    "## Load data"
   ]
  },
  {
   "cell_type": "code",
   "execution_count": 2,
   "metadata": {},
   "outputs": [
    {
     "name": "stdout",
     "output_type": "stream",
     "text": [
      "Files already downloaded and verified\n",
      "Files already downloaded and verified\n"
     ]
    }
   ],
   "source": [
    "transform = transforms.Compose(\n",
    "    [transforms.ToTensor(),\n",
    "     transforms.Normalize((0.5, 0.5, 0.5), (0.5, 0.5, 0.5))])\n",
    "\n",
    "trainset = torchvision.datasets.CIFAR10(root='./datasets/CIFAR-10', train=True,\n",
    "                                        download=True, transform=transform)\n",
    "\n",
    "testset = torchvision.datasets.CIFAR10(root='./datasets/CIFAR-10', train=False,\n",
    "                                       download=True, transform=transform)\n",
    "testloader = torch.utils.data.DataLoader(testset, batch_size=len(testset) / 100,\n",
    "                                         shuffle=False, num_workers=1)\n",
    "\n",
    "classes = ('plane', 'car', 'bird', 'cat',\n",
    "           'deer', 'dog', 'frog', 'horse', 'ship', 'truck')"
   ]
  },
  {
   "cell_type": "markdown",
   "metadata": {},
   "source": [
    "## split train and validation set"
   ]
  },
  {
   "cell_type": "code",
   "execution_count": 3,
   "metadata": {},
   "outputs": [],
   "source": [
    "#https://gist.github.com/kevinzakka/d33bf8d6c7f06a9d8c76d97a7879f5cb\n",
    "def train_valid_loader(data, batchSize, nWorker, validSize=0.1, shuffle=True, pin_memory=True):\n",
    "    nTrain = len(data)\n",
    "    indices = list(range(nTrain))\n",
    "    split = int(np.floor(validSize * nTrain))\n",
    "    if shuffle == True:\n",
    "        #np.random.seed(randSeed)\n",
    "        np.random.shuffle(indices)\n",
    "        \n",
    "    train_i, valid_i = indices[split:], indices[:split]\n",
    "    \n",
    "    train_sampler = torch.utils.data.sampler.SubsetRandomSampler(train_i)\n",
    "    valid_sampler = torch.utils.data.sampler.SubsetRandomSampler(valid_i)\n",
    "    \n",
    "    trainLoader = torch.utils.data.DataLoader(data, \n",
    "                    batch_size=batchSize, sampler=train_sampler, \n",
    "                    num_workers=nWorker, pin_memory=pin_memory)\n",
    "    \n",
    "    validLoader = torch.utils.data.DataLoader(data, \n",
    "                    batch_size=batchSize, sampler=valid_sampler, \n",
    "                    num_workers=nWorker, pin_memory=pin_memory)\n",
    "    return  trainLoader, validLoader, train_sampler"
   ]
  },
  {
   "cell_type": "code",
   "execution_count": 4,
   "metadata": {},
   "outputs": [
    {
     "name": "stdout",
     "output_type": "stream",
     "text": [
      "(352, 40)\n"
     ]
    }
   ],
   "source": [
    "trainloader, validloader, nSample = train_valid_loader(trainset, 128, 1, \n",
    "                                           validSize=0.1, shuffle=True, pin_memory=True)\n",
    "print (len(trainloader), len(validloader))"
   ]
  },
  {
   "cell_type": "code",
   "execution_count": 5,
   "metadata": {},
   "outputs": [
    {
     "name": "stdout",
     "output_type": "stream",
     "text": [
      "Net (\n",
      "  (conv1): Conv2d(3, 92, kernel_size=(5, 5), stride=(1, 1))\n",
      "  (conv2): Conv2d(92, 184, kernel_size=(5, 5), stride=(1, 1))\n",
      "  (fc1): Linear (4600 -> 120)\n",
      "  (fc2): Linear (120 -> 84)\n",
      "  (fc3): Linear (84 -> 10)\n",
      ")\n"
     ]
    }
   ],
   "source": [
    "class Net(nn.Module):\n",
    "\n",
    "    def __init__(self):\n",
    "        super(Net, self).__init__()\n",
    "        # 1 input image channel, 6 output channels, 5x5 square convolution\n",
    "        # kernel\n",
    "        self.conv1 = nn.Conv2d(3, 92, 5)\n",
    "        #self.conv1_bn = nn.BatchNorm2d(92)\n",
    "        self.conv2 = nn.Conv2d(92, 184, 5)\n",
    "        # an affine operation: y = Wx + b\n",
    "        #self.conv2_bn = nn.BatchNorm2d(184)\n",
    "        self.fc1 = nn.Linear(184 * 5 * 5, 120)\n",
    "        #self.fc1_bn = nn.BatchNorm1d(120)\n",
    "        self.fc2 = nn.Linear(120, 84)\n",
    "        #self.fc2_bn = nn.BatchNorm1d(84)\n",
    "        self.fc3 = nn.Linear(84, 10)\n",
    "\n",
    "    def forward(self, x):\n",
    "        # Max pooling over a (2, 2) window\n",
    "        #x = F.max_pool2d(F.relu(self.conv1_bn(self.conv1(x))), (2, 2))   \n",
    "        x = F.max_pool2d(F.relu((self.conv1(x))), (2, 2))        \n",
    "        # If the size is a square you can only specify a single number\n",
    "        #x = F.max_pool2d(F.relu(self.conv2_bn(self.conv2(x))), 2)\n",
    "        x = F.max_pool2d(F.relu((self.conv2(x))), 2)\n",
    "        x = x.view(-1, self.num_flat_features(x))\n",
    "        #x = F.relu(self.fc1_bn(self.fc1(x)))\n",
    "        x = F.relu((self.fc1(x)))\n",
    "        #x = F.relu(self.fc2_bn(self.fc2(x)))\n",
    "        x = F.relu((self.fc2(x)))\n",
    "        x = self.fc3(x)\n",
    "        return x\n",
    "\n",
    "    def num_flat_features(self, x):\n",
    "        size = x.size()[1:]  # all dimensions except the batch dimension\n",
    "        num_features = 1\n",
    "        for s in size:\n",
    "            num_features *= s\n",
    "        return num_features\n",
    "\n",
    "\n",
    "net = Net()\n",
    "net = net.cuda()\n",
    "print(net)"
   ]
  },
  {
   "cell_type": "markdown",
   "metadata": {},
   "source": [
    "## Add batch"
   ]
  },
  {
   "cell_type": "code",
   "execution_count": 6,
   "metadata": {},
   "outputs": [
    {
     "name": "stdout",
     "output_type": "stream",
     "text": [
      "Net (\n",
      "  (conv1): Conv2d(3, 92, kernel_size=(3, 3), stride=(1, 1), padding=(1, 1))\n",
      "  (conv1_bn): BatchNorm2d(92, eps=1e-05, momentum=0.1, affine=True)\n",
      "  (conv2): Conv2d(92, 184, kernel_size=(3, 3), stride=(1, 1), padding=(1, 1))\n",
      "  (conv2_bn): BatchNorm2d(184, eps=1e-05, momentum=0.1, affine=True)\n",
      "  (fc1): Linear (11776 -> 120)\n",
      "  (fc1_bn): BatchNorm1d(120, eps=1e-05, momentum=0.1, affine=True)\n",
      "  (fc2): Linear (120 -> 84)\n",
      "  (fc2_bn): BatchNorm1d(84, eps=1e-05, momentum=0.1, affine=True)\n",
      "  (fc3): Linear (84 -> 10)\n",
      ")\n"
     ]
    }
   ],
   "source": [
    "class Net(nn.Module):\n",
    "\n",
    "    def __init__(self):\n",
    "        super(Net, self).__init__()\n",
    "        # 1 input image channel, 6 output channels, 5x5 square convolution\n",
    "        # kernel\n",
    "        self.conv1 = nn.Conv2d(3, 92, 3, padding = 1)\n",
    "        self.conv1_bn = nn.BatchNorm2d(92)\n",
    "        \n",
    "        self.conv2 = nn.Conv2d(92, 184, 3, padding = 1)\n",
    "        # an affine operation: y = Wx + b\n",
    "        self.conv2_bn = nn.BatchNorm2d(184)\n",
    "        \n",
    "        self.fc1 = nn.Linear(184 * 8 * 8, 120)\n",
    "        self.fc1_bn = nn.BatchNorm1d(120)\n",
    "        \n",
    "        self.fc2 = nn.Linear(120, 84)\n",
    "        self.fc2_bn = nn.BatchNorm1d(84)\n",
    "        \n",
    "        self.fc3 = nn.Linear(84, 10)\n",
    "\n",
    "    def forward(self, x):\n",
    "        # Max pooling over a (2, 2) window\n",
    "        x = F.max_pool2d(F.relu(self.conv1_bn(self.conv1(x))), (2, 2))   \n",
    "        # If the size is a square you can only specify a single number\n",
    "        x = F.max_pool2d(F.relu(self.conv2_bn(self.conv2(x))), 2)\n",
    "        \n",
    "        x = x.view(-1, self.num_flat_features(x))\n",
    "        \n",
    "        x = F.relu(self.fc1_bn(self.fc1(x)))\n",
    "        x = F.relu(self.fc2_bn(self.fc2(x)))\n",
    "        x = self.fc3(x)\n",
    "        return x\n",
    "\n",
    "    def num_flat_features(self, x):\n",
    "        size = x.size()[1:]  # all dimensions except the batch dimension\n",
    "        num_features = 1\n",
    "        for s in size:\n",
    "            num_features *= s\n",
    "        return num_features\n",
    "\n",
    "\n",
    "net = Net()\n",
    "net = net.cuda()\n",
    "print(net)"
   ]
  },
  {
   "cell_type": "code",
   "execution_count": 7,
   "metadata": {},
   "outputs": [],
   "source": [
    "import torch.optim as optim\n",
    "criterion = nn.CrossEntropyLoss()\n",
    "optimizer = optim.SGD(net.parameters(), lr=0.001, momentum=0.9)\n"
   ]
  },
  {
   "cell_type": "code",
   "execution_count": 8,
   "metadata": {
    "scrolled": true
   },
   "outputs": [
    {
     "name": "stdout",
     "output_type": "stream",
     "text": [
      "[1,   300] loss: 1.851\n",
      "Accuracy of the network on the valid images: 52.26 %\n",
      "[2,   300] loss: 1.329\n",
      "Accuracy of the network on the valid images: 61.90 %\n",
      "[3,   300] loss: 1.047\n",
      "Accuracy of the network on the valid images: 66.52 %\n",
      "[4,   300] loss: 0.873\n",
      "Accuracy of the network on the valid images: 68.74 %\n",
      "[5,   300] loss: 0.748\n",
      "Accuracy of the network on the valid images: 69.64 %\n",
      "[6,   300] loss: 0.639\n",
      "Accuracy of the network on the valid images: 70.28 %\n",
      "[7,   300] loss: 0.538\n",
      "Accuracy of the network on the valid images: 70.40 %\n",
      "[8,   300] loss: 0.448\n",
      "Accuracy of the network on the valid images: 70.36 %\n",
      "[9,   300] loss: 0.368\n",
      "Accuracy of the network on the valid images: 69.94 %\n",
      "[10,   300] loss: 0.293\n",
      "Accuracy of the network on the valid images: 69.60 %\n",
      "[11,   300] loss: 0.232\n",
      "Accuracy of the network on the valid images: 70.30 %\n",
      "[12,   300] loss: 0.175\n",
      "Accuracy of the network on the valid images: 69.50 %\n",
      "[13,   300] loss: 0.133\n",
      "Accuracy of the network on the valid images: 69.60 %\n",
      "[14,   300] loss: 0.101\n",
      "Accuracy of the network on the valid images: 69.82 %\n",
      "[15,   300] loss: 0.075\n",
      "Accuracy of the network on the valid images: 70.00 %\n",
      "[16,   300] loss: 0.053\n",
      "Accuracy of the network on the valid images: 70.34 %\n",
      "[17,   300] loss: 0.039\n",
      "Accuracy of the network on the valid images: 69.74 %\n",
      "[18,   300] loss: 0.029\n",
      "Accuracy of the network on the valid images: 70.16 %\n",
      "[19,   300] loss: 0.022\n",
      "Accuracy of the network on the valid images: 69.94 %\n",
      "[20,   300] loss: 0.018\n",
      "Accuracy of the network on the valid images: 70.82 %\n",
      "Finished Training\n"
     ]
    }
   ],
   "source": [
    "for epoch in range(20):  # loop over the dataset multiple times\n",
    "\n",
    "    running_loss = 0.0\n",
    "    for i, data in enumerate(trainloader, 0):\n",
    "        # get the inputs\n",
    "        inputs, labels = data\n",
    "\n",
    "        # wrap them in Variable\n",
    "        inputs, labels = Variable(inputs.cuda()), Variable(labels.cuda())\n",
    "\n",
    "        # zero the parameter gradients\n",
    "        optimizer.zero_grad()\n",
    "\n",
    "        # forward + backward + optimize\n",
    "        outputs = net(inputs)\n",
    "        loss = criterion(outputs, labels)\n",
    "        loss.backward()\n",
    "        optimizer.step()\n",
    "\n",
    "        # print statistics\n",
    "        running_loss += loss.data[0]\n",
    "        if i % 300 == 299:    # print every 2000 mini-batches\n",
    "            print('[%d, %5d] loss: %.3f' %\n",
    "                  (epoch + 1, i + 1, running_loss / 300))\n",
    "            running_loss = 0.0\n",
    "            \n",
    "    correct = 0\n",
    "    total = 0\n",
    "    for data in validloader:\n",
    "        images, labels = data\n",
    "        outputs = net(Variable(images.cuda()))\n",
    "        _, predicted = torch.max(outputs.data, 1)\n",
    "        total += labels.size(0)\n",
    "        correct += (predicted == labels.cuda()).sum()\n",
    "\n",
    "    print('Accuracy of the network on the valid images: %5.2f %%' % (\n",
    "        100.0 * correct / total))\n",
    "\n",
    "print('Finished Training')"
   ]
  },
  {
   "cell_type": "code",
   "execution_count": 9,
   "metadata": {},
   "outputs": [
    {
     "name": "stdout",
     "output_type": "stream",
     "text": [
      "Accuracy of the network on the 10000 test images: 73.77 %\n"
     ]
    }
   ],
   "source": [
    "correct = 0\n",
    "total = 0\n",
    "for data in testloader:\n",
    "    images, labels = data\n",
    "    outputs = net(Variable(images.cuda()))\n",
    "    _, predicted = torch.max(outputs.data, 1)\n",
    "    total += labels.size(0)\n",
    "    correct += (predicted == labels.cuda()).sum()\n",
    "\n",
    "print('Accuracy of the network on the 10000 test images: %5.2f %%' % (\n",
    "    100.0 * correct / total))"
   ]
  },
  {
   "cell_type": "code",
   "execution_count": 66,
   "metadata": {},
   "outputs": [
    {
     "name": "stdout",
     "output_type": "stream",
     "text": [
      "Accuracy of plane : 72 %\n",
      "Accuracy of   car : 81 %\n",
      "Accuracy of  bird : 55 %\n",
      "Accuracy of   cat : 41 %\n",
      "Accuracy of  deer : 65 %\n",
      "Accuracy of   dog : 56 %\n",
      "Accuracy of  frog : 75 %\n",
      "Accuracy of horse : 90 %\n",
      "Accuracy of  ship : 81 %\n",
      "Accuracy of truck : 89 %\n"
     ]
    }
   ],
   "source": [
    "class_correct = list(0. for i in range(10))\n",
    "class_total = list(0. for i in range(10))\n",
    "for data in testloader:\n",
    "    images, labels = data\n",
    "    outputs = net(Variable(images.cuda()))\n",
    "    _, predicted = torch.max(outputs.data, 1)\n",
    "    c = (predicted == labels.cuda()).squeeze()\n",
    "    for i in range(4):\n",
    "        label = labels[i]\n",
    "        class_correct[label] += c[i]\n",
    "        class_total[label] += 1\n",
    "\n",
    "\n",
    "for i in range(10):\n",
    "    print('Accuracy of %5s : %2d %%' % (\n",
    "        classes[i], 100 * class_correct[i] / class_total[i]))"
   ]
  },
  {
   "cell_type": "markdown",
   "metadata": {},
   "source": [
    "## Add Xavier"
   ]
  },
  {
   "cell_type": "code",
   "execution_count": 9,
   "metadata": {},
   "outputs": [
    {
     "name": "stdout",
     "output_type": "stream",
     "text": [
      "Net (\n",
      "  (conv1): Conv2d(3, 92, kernel_size=(5, 5), stride=(1, 1))\n",
      "  (conv2): Conv2d(92, 184, kernel_size=(5, 5), stride=(1, 1))\n",
      "  (fc1): Linear (4600 -> 120)\n",
      "  (fc2): Linear (120 -> 84)\n",
      "  (fc3): Linear (84 -> 10)\n",
      ")\n"
     ]
    }
   ],
   "source": [
    "class Net(nn.Module):\n",
    "\n",
    "    def __init__(self):\n",
    "        super(Net, self).__init__()\n",
    "        self.conv1 = nn.Conv2d(3, 92, 5)\n",
    "        #torch.nn.init.xavier_normal(self.conv1.weight)\n",
    "        self.conv2 = nn.Conv2d(92, 184, 5)\n",
    "        #torch.nn.init.xavier_normal(self.conv2.weight)\n",
    "        self.fc1 = nn.Linear(184 * 5 * 5, 120)\n",
    "        #torch.nn.init.xavier_normal(self.fc1.weight)\n",
    "        self.fc2 = nn.Linear(120, 84)\n",
    "        #torch.nn.init.xavier_normal(self.fc2.weight)\n",
    "        self.fc3 = nn.Linear(84, 10)\n",
    "\n",
    "    def forward(self, x):\n",
    "        # Max pooling over a (2, 2) window\n",
    "        #x = F.max_pool2d(F.relu(self.conv1_bn(self.conv1(x))), (2, 2))   \n",
    "        x = F.max_pool2d(F.relu((self.conv1(x))), (2, 2))        \n",
    "        # If the size is a square you can only specify a single number\n",
    "        #x = F.max_pool2d(F.relu(self.conv2_bn(self.conv2(x))), 2)\n",
    "        x = F.max_pool2d(F.relu((self.conv2(x))), 2)\n",
    "        x = x.view(-1, self.num_flat_features(x))\n",
    "        #x = F.relu(self.fc1_bn(self.fc1(x)))\n",
    "        x = F.relu((self.fc1(x)))\n",
    "        #x = F.relu(self.fc2_bn(self.fc2(x)))\n",
    "        x = F.relu((self.fc2(x)))\n",
    "        x = self.fc3(x)\n",
    "        return x\n",
    "\n",
    "    def num_flat_features(self, x):\n",
    "        size = x.size()[1:]  # all dimensions except the batch dimension\n",
    "        num_features = 1\n",
    "        for s in size:\n",
    "            num_features *= s\n",
    "        return num_features\n",
    "\n",
    "def weights_init(m):\n",
    "    classname=m.__class__.__name__\n",
    "    if classname.find('Conv') != -1:\n",
    "        torch.nn.init.xavier_normal(m.weight.data)\n",
    "        #torch.nn.init.xavier_normal(m.bias.data)\n",
    "\n",
    "net = Net()\n",
    "net = net.apply(weights_init)\n",
    "net = net.cuda()\n",
    "print(net)"
   ]
  },
  {
   "cell_type": "code",
   "execution_count": 18,
   "metadata": {},
   "outputs": [],
   "source": [
    "import torch.optim as optim\n",
    "criterion = nn.CrossEntropyLoss()\n",
    "optimizer = optim.SGD(net.parameters(), lr=0.01, momentum=0.9)\n"
   ]
  },
  {
   "cell_type": "code",
   "execution_count": 10,
   "metadata": {},
   "outputs": [
    {
     "name": "stdout",
     "output_type": "stream",
     "text": [
      "[1,   300] loss: 0.026\n",
      "Accuracy of the network on the valid images: 74.96 %\n",
      "[2,   300] loss: 0.028\n",
      "Accuracy of the network on the valid images: 74.42 %\n",
      "[3,   300] loss: 0.027\n",
      "Accuracy of the network on the valid images: 74.68 %\n",
      "[4,   300] loss: 0.024\n",
      "Accuracy of the network on the valid images: 74.28 %\n",
      "[5,   300] loss: 0.026\n",
      "Accuracy of the network on the valid images: 75.10 %\n",
      "[6,   300] loss: 0.021\n",
      "Accuracy of the network on the valid images: 73.86 %\n",
      "[7,   300] loss: 0.031\n",
      "Accuracy of the network on the valid images: 74.36 %\n",
      "[8,   300] loss: 0.021\n",
      "Accuracy of the network on the valid images: 74.46 %\n",
      "[9,   300] loss: 0.019\n",
      "Accuracy of the network on the valid images: 73.72 %\n",
      "[10,   300] loss: 0.015\n",
      "Accuracy of the network on the valid images: 74.44 %\n",
      "Finished Training\n"
     ]
    }
   ],
   "source": [
    "for epoch in range(10):  # loop over the dataset multiple times\n",
    "\n",
    "    running_loss = 0.0\n",
    "    for i, data in enumerate(trainloader, 0):\n",
    "        # get the inputs\n",
    "        inputs, labels = data\n",
    "\n",
    "        # wrap them in Variable\n",
    "        inputs, labels = Variable(inputs.cuda()), Variable(labels.cuda())\n",
    "\n",
    "        # zero the parameter gradients\n",
    "        optimizer.zero_grad()\n",
    "\n",
    "        # forward + backward + optimize\n",
    "        outputs = net(inputs)\n",
    "        loss = criterion(outputs, labels)\n",
    "        loss.backward()\n",
    "        optimizer.step()\n",
    "\n",
    "        # print statistics\n",
    "        running_loss += loss.data[0]\n",
    "        if i % 300 == 299:    # print every 2000 mini-batches\n",
    "            print('[%d, %5d] loss: %.3f' %\n",
    "                  (epoch + 1, i + 1, running_loss / 300))\n",
    "            running_loss = 0.0\n",
    "            \n",
    "    correct = 0\n",
    "    total = 0\n",
    "    for data in validloader:\n",
    "        images, labels = data\n",
    "        outputs = net(Variable(images.cuda()))\n",
    "        _, predicted = torch.max(outputs.data, 1)\n",
    "        total += labels.size(0)\n",
    "        correct += (predicted == labels.cuda()).sum()\n",
    "\n",
    "    print('Accuracy of the network on the valid images: %5.2f %%' % (\n",
    "        100.0 * correct / total))\n",
    "\n",
    "print('Finished Training')"
   ]
  },
  {
   "cell_type": "code",
   "execution_count": 11,
   "metadata": {},
   "outputs": [
    {
     "name": "stdout",
     "output_type": "stream",
     "text": [
      "Accuracy of the network on the 10000 test images: 74.15 %\n"
     ]
    }
   ],
   "source": [
    "correct = 0\n",
    "total = 0\n",
    "for data in testloader:\n",
    "    images, labels = data\n",
    "    outputs = net(Variable(images.cuda()))\n",
    "    _, predicted = torch.max(outputs.data, 1)\n",
    "    total += labels.size(0)\n",
    "    correct += (predicted == labels.cuda()).sum()\n",
    "\n",
    "print('Accuracy of the network on the 10000 test images: %5.2f %%' % (\n",
    "    100.0 * correct / total))"
   ]
  },
  {
   "cell_type": "markdown",
   "metadata": {},
   "source": [
    "## add Adam"
   ]
  },
  {
   "cell_type": "code",
   "execution_count": null,
   "metadata": {},
   "outputs": [],
   "source": [
    "import torch.optim as optim\n",
    "criterion = nn.CrossEntropyLoss()\n",
    "#optimizer = optim.SGD(net.parameters(), lr=0.01, momentum=0.9)\n",
    "optimizer = optim.Adam(net.parameters(), lr=0.001)#, weight_decay = 0.001)"
   ]
  },
  {
   "cell_type": "markdown",
   "metadata": {},
   "source": [
    "## Net2"
   ]
  },
  {
   "cell_type": "code",
   "execution_count": 12,
   "metadata": {},
   "outputs": [
    {
     "name": "stdout",
     "output_type": "stream",
     "text": [
      "Net (\n",
      "  (conv1): Conv2d(3, 92, kernel_size=(3, 3), stride=(1, 1), padding=(1, 1))\n",
      "  (conv1_bn): BatchNorm2d(92, eps=1e-05, momentum=0.1, affine=True)\n",
      "  (conv2): Conv2d(92, 184, kernel_size=(3, 3), stride=(1, 1), padding=(1, 1))\n",
      "  (conv2_bn): BatchNorm2d(184, eps=1e-05, momentum=0.1, affine=True)\n",
      "  (conv3): Conv2d(184, 368, kernel_size=(3, 3), stride=(1, 1), padding=(1, 1))\n",
      "  (conv3_bn): BatchNorm2d(368, eps=1e-05, momentum=0.1, affine=True)\n",
      "  (fc1): Linear (5888 -> 120)\n",
      "  (fc1_bn): BatchNorm1d(120, eps=1e-05, momentum=0.1, affine=True)\n",
      "  (fc2): Linear (120 -> 84)\n",
      "  (fc2_bn): BatchNorm1d(84, eps=1e-05, momentum=0.1, affine=True)\n",
      "  (fc3): Linear (84 -> 10)\n",
      ")\n"
     ]
    }
   ],
   "source": [
    "class Net(nn.Module):\n",
    "\n",
    "    def __init__(self):\n",
    "        super(Net, self).__init__()\n",
    "        # 1 input image channel, 6 output channels, 5x5 square convolution\n",
    "        # kernel\n",
    "        self.conv1 = nn.Conv2d(3, 92, 3, padding = 1)\n",
    "        self.conv1_bn = nn.BatchNorm2d(92)\n",
    "        \n",
    "        self.conv2 = nn.Conv2d(92, 184, 3, padding = 1)\n",
    "        # an affine operation: y = Wx + b\n",
    "        self.conv2_bn = nn.BatchNorm2d(184)\n",
    "        \n",
    "        self.conv3  = nn.Conv2d(184, 368, 3, padding = 1)\n",
    "        self.conv3_bn = nn.BatchNorm2d(368)\n",
    "        \n",
    "        self.fc1 = nn.Linear(368 * 4 * 4, 120)\n",
    "        self.fc1_bn = nn.BatchNorm1d(120)\n",
    "        \n",
    "        self.fc2 = nn.Linear(120, 84)\n",
    "        self.fc2_bn = nn.BatchNorm1d(84)\n",
    "        \n",
    "        self.fc3 = nn.Linear(84, 10)\n",
    "\n",
    "    def forward(self, x):\n",
    "        # Max pooling over a (2, 2) window\n",
    "        x = F.max_pool2d(F.relu(self.conv1_bn(self.conv1(x))), (2, 2))   \n",
    "        # If the size is a square you can only specify a single number\n",
    "        x = F.max_pool2d(F.relu(self.conv2_bn(self.conv2(x))), 2)\n",
    "        \n",
    "        x = F.max_pool2d(F.relu(self.conv3_bn(self.conv3(x))), 2)\n",
    "        \n",
    "        x = x.view(-1, self.num_flat_features(x))\n",
    "        \n",
    "        x = F.relu(self.fc1_bn(self.fc1(x)))\n",
    "        x = F.relu(self.fc2_bn(self.fc2(x)))\n",
    "        x = self.fc3(x)\n",
    "        return x\n",
    "\n",
    "    def num_flat_features(self, x):\n",
    "        size = x.size()[1:]  # all dimensions except the batch dimension\n",
    "        num_features = 1\n",
    "        for s in size:\n",
    "            num_features *= s\n",
    "        return num_features\n",
    "\n",
    "\n",
    "net = Net()\n",
    "net = net.cuda()\n",
    "print(net)"
   ]
  },
  {
   "cell_type": "code",
   "execution_count": 21,
   "metadata": {},
   "outputs": [],
   "source": [
    "import torch.optim as optim\n",
    "criterion = nn.CrossEntropyLoss()\n",
    "optimizer = optim.SGD(net.parameters(), lr=0.001, momentum=0.9)"
   ]
  },
  {
   "cell_type": "code",
   "execution_count": 16,
   "metadata": {},
   "outputs": [
    {
     "name": "stdout",
     "output_type": "stream",
     "text": [
      "[1,   300] loss: 0.002\n",
      "Accuracy of the network on the valid images: 78.26 %\n",
      "[2,   300] loss: 0.002\n",
      "Accuracy of the network on the valid images: 78.96 %\n",
      "[3,   300] loss: 0.001\n",
      "Accuracy of the network on the valid images: 78.36 %\n",
      "[4,   300] loss: 0.001\n",
      "Accuracy of the network on the valid images: 78.56 %\n",
      "[5,   300] loss: 0.001\n",
      "Accuracy of the network on the valid images: 78.78 %\n",
      "[6,   300] loss: 0.001\n",
      "Accuracy of the network on the valid images: 78.58 %\n",
      "[7,   300] loss: 0.000\n",
      "Accuracy of the network on the valid images: 79.30 %\n",
      "[8,   300] loss: 0.000\n",
      "Accuracy of the network on the valid images: 79.18 %\n",
      "[9,   300] loss: 0.000\n",
      "Accuracy of the network on the valid images: 78.96 %\n",
      "[10,   300] loss: 0.000\n",
      "Accuracy of the network on the valid images: 78.58 %\n",
      "Finished Training\n"
     ]
    }
   ],
   "source": [
    "for epoch in range(10):  # loop over the dataset multiple times\n",
    "\n",
    "    running_loss = 0.0\n",
    "    for i, data in enumerate(trainloader, 0):\n",
    "        # get the inputs\n",
    "        inputs, labels = data\n",
    "\n",
    "        # wrap them in Variable\n",
    "        inputs, labels = Variable(inputs.cuda()), Variable(labels.cuda())\n",
    "\n",
    "        # zero the parameter gradients\n",
    "        optimizer.zero_grad()\n",
    "\n",
    "        # forward + backward + optimize\n",
    "        outputs = net(inputs)\n",
    "        loss = criterion(outputs, labels)\n",
    "        loss.backward()\n",
    "        optimizer.step()\n",
    "\n",
    "        # print statistics\n",
    "        running_loss += loss.data[0]\n",
    "        if i % 300 == 299:    # print every 2000 mini-batches\n",
    "            print('[%d, %5d] loss: %.3f' %\n",
    "                  (epoch + 1, i + 1, running_loss / 300))\n",
    "            running_loss = 0.0\n",
    "            \n",
    "    correct = 0\n",
    "    total = 0\n",
    "    for data in validloader:\n",
    "        images, labels = data\n",
    "        outputs = net(Variable(images.cuda()))\n",
    "        _, predicted = torch.max(outputs.data, 1)\n",
    "        total += labels.size(0)\n",
    "        correct += (predicted == labels.cuda()).sum()\n",
    "\n",
    "    print('Accuracy of the network on the valid images: %5.2f %%' % (\n",
    "        100.0 * correct / total))\n",
    "\n",
    "print('Finished Training')"
   ]
  },
  {
   "cell_type": "code",
   "execution_count": 17,
   "metadata": {},
   "outputs": [
    {
     "name": "stdout",
     "output_type": "stream",
     "text": [
      "Accuracy of the network on the 10000 test images: 78.86 %\n"
     ]
    }
   ],
   "source": [
    "correct = 0\n",
    "total = 0\n",
    "for data in testloader:\n",
    "    images, labels = data\n",
    "    outputs = net(Variable(images.cuda()))\n",
    "    _, predicted = torch.max(outputs.data, 1)\n",
    "    total += labels.size(0)\n",
    "    correct += (predicted == labels.cuda()).sum()\n",
    "\n",
    "print('Accuracy of the network on the 10000 test images: %5.2f %%' % (\n",
    "    100.0 * correct / total))"
   ]
  },
  {
   "cell_type": "markdown",
   "metadata": {},
   "source": [
    "## Net 3"
   ]
  },
  {
   "cell_type": "code",
   "execution_count": 35,
   "metadata": {},
   "outputs": [
    {
     "name": "stdout",
     "output_type": "stream",
     "text": [
      "Net (\n",
      "  (conv1): Conv2d(3, 92, kernel_size=(3, 3), stride=(1, 1), padding=(1, 1))\n",
      "  (conv1_bn): BatchNorm2d(92, eps=1e-05, momentum=0.1, affine=True)\n",
      "  (conv2): Conv2d(92, 184, kernel_size=(3, 3), stride=(1, 1), padding=(1, 1))\n",
      "  (conv2_bn): BatchNorm2d(184, eps=1e-05, momentum=0.1, affine=True)\n",
      "  (conv3): Conv2d(184, 368, kernel_size=(3, 3), stride=(1, 1), padding=(1, 1))\n",
      "  (conv3_bn): BatchNorm2d(368, eps=1e-05, momentum=0.1, affine=True)\n",
      "  (conv4): Conv2d(368, 736, kernel_size=(3, 3), stride=(1, 1), padding=(1, 1))\n",
      "  (conv4_bn): BatchNorm2d(736, eps=1e-05, momentum=0.1, affine=True)\n",
      "  (fc1): Linear (47104 -> 1472)\n",
      "  (fc2): Linear (1472 -> 120)\n",
      "  (fc3): Linear (120 -> 84)\n",
      "  (fc4): Linear (84 -> 10)\n",
      ")\n"
     ]
    }
   ],
   "source": [
    "class Net(nn.Module):\n",
    "\n",
    "    def __init__(self):\n",
    "        super(Net, self).__init__()\n",
    "        # 1 input image channel, 6 output channels, 5x5 square convolution\n",
    "        # kernel\n",
    "        self.conv1 = nn.Conv2d(3, 92, 3, padding = 1)\n",
    "        self.conv1_bn = nn.BatchNorm2d(92)\n",
    "        \n",
    "        self.conv2 = nn.Conv2d(92, 184, 3, padding = 1)\n",
    "        # an affine operation: y = Wx + b\n",
    "        self.conv2_bn = nn.BatchNorm2d(184)\n",
    "        \n",
    "        self.conv3  = nn.Conv2d(184, 368, 3, padding = 1)\n",
    "        self.conv3_bn = nn.BatchNorm2d(368)\n",
    "        \n",
    "        self.conv4  = nn.Conv2d(368, 736 , 3, padding = 1)\n",
    "        self.conv4_bn = nn.BatchNorm2d(736)\n",
    "        \n",
    "        self.fc1 = nn.Linear(736 * 8 * 8, 1472)\n",
    "        #self.fc1_bn = nn.BatchNorm1d(1472)\n",
    "        \n",
    "        self.fc2 = nn.Linear(1472, 120)\n",
    "        #self.fc2_bn = nn.BatchNorm1d(120)\n",
    "        \n",
    "        self.fc3 = nn.Linear(120, 84)\n",
    "        #self.fc3_bn = nn.BatchNorm1d(84)\n",
    "        \n",
    "        self.fc4 = nn.Linear(84, 10)\n",
    "\n",
    "    def forward(self, x):\n",
    "        # Max pooling over a (2, 2) window\n",
    "        x = F.relu(self.conv1_bn(self.conv1(x)))   \n",
    "        x = F.max_pool2d(F.relu(self.conv2_bn(self.conv2(x))), (2, 2))   \n",
    "        # If the size is a square you can only specify a single number\n",
    "        x = F.relu(self.conv3_bn(self.conv3(x)))\n",
    "        \n",
    "        x = F.max_pool2d(F.relu(self.conv4_bn(self.conv4(x))), 2)\n",
    "        \n",
    "        #x = F.max_pool2d(F.relu(self.conv4_bn(self.conv4(x))), 2)\n",
    "        \n",
    "        x = x.view(-1, self.num_flat_features(x))\n",
    "        \n",
    "#         x = F.relu(self.fc1_bn(self.fc1(x)))\n",
    "#         x = F.relu(self.fc2_bn(self.fc2(x)))\n",
    "#         x = F.relu(self.fc3_bn(self.fc3(x)))\n",
    "        x = F.relu(self.fc1(x))\n",
    "        x = F.relu(self.fc2(x))\n",
    "        x = F.relu(self.fc3(x))\n",
    "        \n",
    "        x = self.fc4(x)\n",
    "        return x\n",
    "\n",
    "    def num_flat_features(self, x):\n",
    "        size = x.size()[1:]  # all dimensions except the batch dimension\n",
    "        num_features = 1\n",
    "        for s in size:\n",
    "            num_features *= s\n",
    "        return num_features\n",
    "\n",
    "\n",
    "net = Net()\n",
    "net = net.cuda()\n",
    "print(net)"
   ]
  },
  {
   "cell_type": "code",
   "execution_count": 36,
   "metadata": {},
   "outputs": [],
   "source": [
    "import torch.optim as optim\n",
    "criterion = nn.CrossEntropyLoss()\n",
    "optimizer = optim.SGD(net.parameters(), lr=0.001, momentum=0.9)"
   ]
  },
  {
   "cell_type": "code",
   "execution_count": 41,
   "metadata": {},
   "outputs": [
    {
     "name": "stdout",
     "output_type": "stream",
     "text": [
      "[1,   300] loss: 0.001\n",
      "Accuracy of the network on the valid images: 80.56 %\n",
      "[2,   300] loss: 0.001\n",
      "Accuracy of the network on the valid images: 80.14 %\n",
      "[3,   300] loss: 0.001\n",
      "Accuracy of the network on the valid images: 80.16 %\n",
      "[4,   300] loss: 0.001\n",
      "Accuracy of the network on the valid images: 80.34 %\n",
      "[5,   300] loss: 0.001\n",
      "Accuracy of the network on the valid images: 80.26 %\n",
      "Finished Training\n"
     ]
    }
   ],
   "source": [
    "for epoch in range(5):  # loop over the dataset multiple times\n",
    "\n",
    "    running_loss = 0.0\n",
    "    for i, data in enumerate(trainloader, 0):\n",
    "        # get the inputs\n",
    "        inputs, labels = data\n",
    "\n",
    "        # wrap them in Variable\n",
    "        inputs, labels = Variable(inputs.cuda()), Variable(labels.cuda())\n",
    "\n",
    "        # zero the parameter gradients\n",
    "        optimizer.zero_grad()\n",
    "\n",
    "        # forward + backward + optimize\n",
    "        outputs = net(inputs)\n",
    "        loss = criterion(outputs, labels)\n",
    "        loss.backward()\n",
    "        optimizer.step()\n",
    "\n",
    "        # print statistics\n",
    "        running_loss += loss.data[0]\n",
    "        if i % 300 == 299:    # print every 2000 mini-batches\n",
    "            print('[%d, %5d] loss: %.3f' %\n",
    "                  (epoch + 1, i + 1, running_loss / 300))\n",
    "            running_loss = 0.0\n",
    "            \n",
    "    correct = 0\n",
    "    total = 0\n",
    "    for data in validloader:\n",
    "        images, labels = data\n",
    "        outputs = net(Variable(images.cuda()))\n",
    "        _, predicted = torch.max(outputs.data, 1)\n",
    "        total += labels.size(0)\n",
    "        correct += (predicted == labels.cuda()).sum()\n",
    "\n",
    "    print('Accuracy of the network on the valid images: %5.2f %%' % (\n",
    "        100.0 * correct / total))\n",
    "\n",
    "print('Finished Training')"
   ]
  },
  {
   "cell_type": "code",
   "execution_count": 42,
   "metadata": {},
   "outputs": [
    {
     "name": "stdout",
     "output_type": "stream",
     "text": [
      "Accuracy of the network on the 10000 test images: 79.65 %\n"
     ]
    }
   ],
   "source": [
    "correct = 0\n",
    "total = 0\n",
    "for data in testloader:\n",
    "    images, labels = data\n",
    "    outputs = net(Variable(images.cuda()))\n",
    "    _, predicted = torch.max(outputs.data, 1)\n",
    "    total += labels.size(0)\n",
    "    correct += (predicted == labels.cuda()).sum()\n",
    "\n",
    "print('Accuracy of the network on the 10000 test images: %5.2f %%' % (\n",
    "    100.0 * correct / total))"
   ]
  },
  {
   "cell_type": "code",
   "execution_count": null,
   "metadata": {},
   "outputs": [],
   "source": []
  }
 ],
 "metadata": {
  "kernelspec": {
   "display_name": "Python 2",
   "language": "python",
   "name": "python2"
  },
  "language_info": {
   "codemirror_mode": {
    "name": "ipython",
    "version": 2
   },
   "file_extension": ".py",
   "mimetype": "text/x-python",
   "name": "python",
   "nbconvert_exporter": "python",
   "pygments_lexer": "ipython2",
   "version": "2.7.14"
  }
 },
 "nbformat": 4,
 "nbformat_minor": 2
}
